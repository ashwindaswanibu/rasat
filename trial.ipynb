{
 "cells": [
  {
   "cell_type": "code",
   "execution_count": 1,
   "metadata": {},
   "outputs": [
    {
     "name": "stderr",
     "output_type": "stream",
     "text": [
      "Reusing dataset spider (/Users/ashwindaswani/.cache/huggingface/datasets/spider/spider/1.0.0/4e5143d825a3895451569c8b9b55432b91a4bc2d04d390376c950837f4680daa)\n"
     ]
    },
    {
     "data": {
      "application/vnd.jupyter.widget-view+json": {
       "model_id": "6c8cab1f7b1649858f13b0d1cab621ef",
       "version_major": 2,
       "version_minor": 0
      },
      "text/plain": [
       "  0%|          | 0/2 [00:00<?, ?it/s]"
      ]
     },
     "metadata": {},
     "output_type": "display_data"
    }
   ],
   "source": [
    "from datasets import load_dataset\n",
    "\n",
    "# # from seq2seq.utils.dataset_loader import prepare_splits\n",
    "# from seq2seq.model.retrieval_augmentation import create_index, retrieval_augmentation\n",
    "\n",
    "data = load_dataset(\"spider\")\n",
    "\n",
    "\n"
   ]
  },
  {
   "cell_type": "code",
   "execution_count": 8,
   "metadata": {},
   "outputs": [],
   "source": [
    "def retrieval_augmentation( train_dataset,  index, ra_dataset, model, k=1):\n",
    "    \n",
    "    augemented_dataset = []\n",
    "    \n",
    "    for X in train_dataset:\n",
    "    \n",
    "        new_text_embedding = model.encode(X)\n",
    "\n",
    "        # Find the most similar text in the dataset\n",
    "        _, indices = index.search(new_text_embedding, k)\n",
    "        similar_text = ra_dataset[indices[0][0]]\n",
    "        #  find the corresponding SQL query for the most similar text\n",
    "        query = ra_dataset['query'][indices[0][0]]\n",
    "            \n",
    "\n",
    "        # append the original text and its corresponding SQL query with separator token\n",
    "        query = query.replace(\"\\n\", \" \")\n",
    "        query = query.replace(\"\\t\", \" \")\n",
    "        \n",
    "        appended_text = X + \"[SEP]\" + query\n",
    "        \n",
    "        \n",
    "        augemented_dataset.append(appended_text)\n",
    "        \n",
    "    return augemented_dataset\n",
    "\n",
    "\n",
    "def create_index(ra_dataset, model):\n",
    "    \n",
    "    \n",
    "    text_embeddings = model.encode(ra_dataset)\n",
    "    index = faiss.IndexFlatL2(text_embeddings.shape[1])\n",
    "    index.add(text_embeddings)\n",
    "    return index"
   ]
  },
  {
   "cell_type": "code",
   "execution_count": 3,
   "metadata": {},
   "outputs": [
    {
     "ename": "",
     "evalue": "",
     "output_type": "error",
     "traceback": [
      "\u001b[1;31mThe Kernel crashed while executing code in the the current cell or a previous cell. Please review the code in the cell(s) to identify a possible cause of the failure. Click <a href='https://aka.ms/vscodeJupyterKernelCrash'>here</a> for more info. View Jupyter <a href='command:jupyter.viewOutput'>log</a> for further details."
     ]
    },
    {
     "ename": "",
     "evalue": "",
     "output_type": "error",
     "traceback": [
      "\u001b[1;31mCanceled future for execute_request message before replies were done"
     ]
    }
   ],
   "source": [
    "from  seq2seq.utils.dataset_loader import prepare_splits\n",
    "\n",
    "\n"
   ]
  },
  {
   "cell_type": "code",
   "execution_count": 2,
   "metadata": {},
   "outputs": [
    {
     "ename": "NameError",
     "evalue": "name 'prepare_splits' is not defined",
     "output_type": "error",
     "traceback": [
      "\u001b[0;31m---------------------------------------------------------------------------\u001b[0m",
      "\u001b[0;31mNameError\u001b[0m                                 Traceback (most recent call last)",
      "\u001b[1;32m/Users/ashwindaswani/Desktop/rasat/trial.ipynb Cell 4\u001b[0m in \u001b[0;36m<cell line: 1>\u001b[0;34m()\u001b[0m\n\u001b[0;32m----> <a href='vscode-notebook-cell:/Users/ashwindaswani/Desktop/rasat/trial.ipynb#X14sZmlsZQ%3D%3D?line=0'>1</a>\u001b[0m splits \u001b[39m=\u001b[39m prepare_splits(dataset_dict\u001b[39m=\u001b[39mdata, add_serialized_schema\u001b[39m=\u001b[39m\u001b[39mFalse\u001b[39;00m, pre_process_function\u001b[39m=\u001b[39m\u001b[39mNone\u001b[39;00m, split_dataset\u001b[39m=\u001b[39m\u001b[39m\"\u001b[39m\u001b[39mtrain\u001b[39m\u001b[39m\"\u001b[39m, split_strategy\u001b[39m=\u001b[39m\u001b[39m\"\u001b[39m\u001b[39msequential\u001b[39m\u001b[39m\"\u001b[39m, split_proportions\u001b[39m=\u001b[39m[\u001b[39m0.8\u001b[39m, \u001b[39m0.1\u001b[39m, \u001b[39m0.1\u001b[39m], split_shuffle\u001b[39m=\u001b[39m\u001b[39mFalse\u001b[39;00m, split_colname\u001b[39m=\u001b[39m\u001b[39m\"\u001b[39m\u001b[39mquestion\u001b[39m\u001b[39m\"\u001b[39m)\n",
      "\u001b[0;31mNameError\u001b[0m: name 'prepare_splits' is not defined"
     ]
    }
   ],
   "source": [
    "splits = prepare_splits(dataset_dict=data, add_serialized_schema=False, pre_process_function=None, split_dataset=\"train\", split_strategy=\"sequential\", split_proportions=[0.8, 0.1, 0.1], split_shuffle=False, split_colname=\"question\")"
   ]
  },
  {
   "cell_type": "code",
   "execution_count": 1,
   "metadata": {},
   "outputs": [
    {
     "ename": "ModuleNotFoundError",
     "evalue": "No module named 'faiss'",
     "output_type": "error",
     "traceback": [
      "\u001b[0;31m---------------------------------------------------------------------------\u001b[0m",
      "\u001b[0;31mModuleNotFoundError\u001b[0m                       Traceback (most recent call last)",
      "\u001b[1;32m/Users/ashwindaswani/Desktop/rasat/trial.ipynb Cell 3\u001b[0m in \u001b[0;36m<cell line: 1>\u001b[0;34m()\u001b[0m\n\u001b[0;32m----> <a href='vscode-notebook-cell:/Users/ashwindaswani/Desktop/rasat/trial.ipynb#W5sZmlsZQ%3D%3D?line=0'>1</a>\u001b[0m \u001b[39mimport\u001b[39;00m \u001b[39mfaiss\u001b[39;00m\n",
      "\u001b[0;31mModuleNotFoundError\u001b[0m: No module named 'faiss'"
     ]
    }
   ],
   "source": [
    "import faiss"
   ]
  },
  {
   "cell_type": "code",
   "execution_count": 1,
   "metadata": {},
   "outputs": [],
   "source": [
    "# split train dataset into train and retrieval augmentation dataset\n",
    "def create_ra_dataset(data):\n",
    "    \n",
    "    data = data['train']\n",
    "    data = data.train_test_split(test_size=0.1)\n",
    "    return data['train'], data['test']\n",
    "    \n",
    "    "
   ]
  },
  {
   "cell_type": "code",
   "execution_count": 2,
   "metadata": {},
   "outputs": [
    {
     "ename": "NameError",
     "evalue": "name 'data' is not defined",
     "output_type": "error",
     "traceback": [
      "\u001b[0;31m---------------------------------------------------------------------------\u001b[0m",
      "\u001b[0;31mNameError\u001b[0m                                 Traceback (most recent call last)",
      "\u001b[1;32m/Users/ashwindaswani/Desktop/rasat/trial.ipynb Cell 5\u001b[0m in \u001b[0;36m<cell line: 1>\u001b[0;34m()\u001b[0m\n\u001b[0;32m----> <a href='vscode-notebook-cell:/Users/ashwindaswani/Desktop/rasat/trial.ipynb#W1sZmlsZQ%3D%3D?line=0'>1</a>\u001b[0m train_dataset, ra_dataset \u001b[39m=\u001b[39m create_ra_dataset(data)\n",
      "\u001b[0;31mNameError\u001b[0m: name 'data' is not defined"
     ]
    }
   ],
   "source": [
    "train_dataset, ra_dataset = create_ra_dataset(data)"
   ]
  },
  {
   "cell_type": "code",
   "execution_count": 3,
   "metadata": {},
   "outputs": [
    {
     "ename": "",
     "evalue": "",
     "output_type": "error",
     "traceback": [
      "\u001b[1;31mThe Kernel crashed while executing code in the the current cell or a previous cell. Please review the code in the cell(s) to identify a possible cause of the failure. Click <a href='https://aka.ms/vscodeJupyterKernelCrash'>here</a> for more info. View Jupyter <a href='command:jupyter.viewOutput'>log</a> for further details."
     ]
    },
    {
     "ename": "",
     "evalue": "",
     "output_type": "error",
     "traceback": [
      "\u001b[1;31mCanceled future for execute_request message before replies were done"
     ]
    },
    {
     "ename": "",
     "evalue": "",
     "output_type": "error",
     "traceback": [
      "\u001b[1;31mThe Kernel crashed while executing code in the the current cell or a previous cell. Please review the code in the cell(s) to identify a possible cause of the failure. Click <a href='https://aka.ms/vscodeJupyterKernelCrash'>here</a> for more info. View Jupyter <a href='command:jupyter.viewOutput'>log</a> for further details."
     ]
    }
   ],
   "source": [
    "from sentence_transformers import SentenceTransformer\n",
    "model = SentenceTransformer('paraphrase-distilroberta-base-v1')\n",
    "\n",
    "\n",
    "# index = create_index(ra_dataset, model)"
   ]
  },
  {
   "cell_type": "code",
   "execution_count": 34,
   "metadata": {},
   "outputs": [
    {
     "data": {
      "text/plain": [
       "Dataset({\n",
       "    features: ['db_id', 'query', 'question', 'query_toks', 'query_toks_no_value', 'question_toks'],\n",
       "    num_rows: 6300\n",
       "})"
      ]
     },
     "execution_count": 34,
     "metadata": {},
     "output_type": "execute_result"
    }
   ],
   "source": [
    "train_dataset"
   ]
  },
  {
   "cell_type": "code",
   "execution_count": 35,
   "metadata": {},
   "outputs": [
    {
     "data": {
      "text/plain": [
       "Dataset({\n",
       "    features: ['db_id', 'query', 'question', 'query_toks', 'query_toks_no_value', 'question_toks'],\n",
       "    num_rows: 700\n",
       "})"
      ]
     },
     "execution_count": 35,
     "metadata": {},
     "output_type": "execute_result"
    }
   ],
   "source": [
    "ra_dataset"
   ]
  },
  {
   "cell_type": "code",
   "execution_count": 1,
   "metadata": {},
   "outputs": [
    {
     "ename": "NameError",
     "evalue": "name 'model' is not defined",
     "output_type": "error",
     "traceback": [
      "\u001b[0;31m---------------------------------------------------------------------------\u001b[0m",
      "\u001b[0;31mNameError\u001b[0m                                 Traceback (most recent call last)",
      "\u001b[1;32m/Users/ashwindaswani/Desktop/rasat/trial.ipynb Cell 9\u001b[0m in \u001b[0;36m<cell line: 2>\u001b[0;34m()\u001b[0m\n\u001b[1;32m      <a href='vscode-notebook-cell:/Users/ashwindaswani/Desktop/rasat/trial.ipynb#X11sZmlsZQ%3D%3D?line=0'>1</a>\u001b[0m \u001b[39m# decode the SQL query\u001b[39;00m\n\u001b[0;32m----> <a href='vscode-notebook-cell:/Users/ashwindaswani/Desktop/rasat/trial.ipynb#X11sZmlsZQ%3D%3D?line=1'>2</a>\u001b[0m decoded \u001b[39m=\u001b[39m model\u001b[39m.\u001b[39mdecode(model\u001b[39m.\u001b[39mencode(ra_dataset[\u001b[39m'\u001b[39m\u001b[39mquery\u001b[39m\u001b[39m'\u001b[39m][\u001b[39m0\u001b[39m]))\n",
      "\u001b[0;31mNameError\u001b[0m: name 'model' is not defined"
     ]
    }
   ],
   "source": [
    "\n",
    "# import sentence_transformers tokenizer\n",
    "from transformers import AutoTokenizer\n",
    "\n",
    "tokenizer = AutoTokenizer.from_pretrained(\"paraphrase-distilroberta-base-v1\")\n",
    "decoded = tokenizer.decode(tokenizer.encode(\"SELECT * FROM table WHERE column = 'value'\"))"
   ]
  }
 ],
 "metadata": {
  "kernelspec": {
   "display_name": "Python 3.9.12 ('base')",
   "language": "python",
   "name": "python3"
  },
  "language_info": {
   "codemirror_mode": {
    "name": "ipython",
    "version": 3
   },
   "file_extension": ".py",
   "mimetype": "text/x-python",
   "name": "python",
   "nbconvert_exporter": "python",
   "pygments_lexer": "ipython3",
   "version": "3.9.12"
  },
  "orig_nbformat": 4,
  "vscode": {
   "interpreter": {
    "hash": "28264cdf5c735ba6e8f6c3a0665207cafefd0d52a0fc03af51169fe42f9ee080"
   }
  }
 },
 "nbformat": 4,
 "nbformat_minor": 2
}
